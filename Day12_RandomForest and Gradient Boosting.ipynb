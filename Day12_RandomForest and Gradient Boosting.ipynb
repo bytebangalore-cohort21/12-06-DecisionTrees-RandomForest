{
 "cells": [
  {
   "cell_type": "code",
   "execution_count": 1,
   "metadata": {},
   "outputs": [],
   "source": [
    "import pandas as pd\n",
    "import numpy as np\n",
    "from sklearn import tree\n",
    "from sklearn.metrics import classification_report\n",
    "from sklearn.model_selection import train_test_split\n",
    "from sklearn.ensemble import RandomForestClassifier\n",
    "import matplotlib.pyplot as plt"
   ]
  },
  {
   "cell_type": "markdown",
   "metadata": {},
   "source": [
    "## Model Preparation Using Decision Tree"
   ]
  },
  {
   "cell_type": "code",
   "execution_count": 2,
   "metadata": {},
   "outputs": [],
   "source": [
    "df=pd.read_excel(\"CustomerRelation.xlsx\")"
   ]
  },
  {
   "cell_type": "code",
   "execution_count": 3,
   "metadata": {},
   "outputs": [],
   "source": [
    "for col in ['APPLICATION.ID', 'DSA.ID', 'DEALER.ID', 'QUEUE.ID', 'CURRENT.STAGE','MARITAL.STATUS', 'GENDER', 'EDUCATION', 'RESIDENCE.TYPE','CITY', 'STATE', 'ZIP.CODE', 'EMPLOY.CONSTITUTION', 'PAN.STATUS','OWN.HOUSE.TYPE', 'PRIMARY.ASSET.CTG', 'PRIMARY.ASSET.MAKE','PRIMARY.ASSET.MODELNO', 'VOTER_ID', 'DRIVING_LICENSE', 'AADHAAR','PAN', 'BANK_PASSBOOK', 'APPLICATION.STATUS']:\n",
    "    df[col]=df[col].astype('category')\n",
    "    df[col] = df[col].cat.codes\n",
    "for col in ['AGE','APPLICATION.SCORE','APPROVED.AMOUNT','APPLIED.AMOUNT','LOAN.TENOR']:\n",
    "    df[col]=df[col].astype('int64')\n",
    "\n",
    "    "
   ]
  },
  {
   "cell_type": "code",
   "execution_count": 4,
   "metadata": {},
   "outputs": [
    {
     "data": {
      "text/plain": [
       "Text(0,0.5,'accuracy')"
      ]
     },
     "execution_count": 4,
     "metadata": {},
     "output_type": "execute_result"
    },
    {
     "data": {
      "image/png": "[encoded data removed]",
      "text/plain": [
       "<matplotlib.figure.Figure at 0x7fb308649fd0>"
      ]
     },
     "metadata": {},
     "output_type": "display_data"
    }
   ],
   "source": [
    "\n",
    "x=df[['APPLICATION.ID', 'DSA.ID', 'DEALER.ID', 'QUEUE.ID', 'CURRENT.STAGE','MARITAL.STATUS', 'GENDER', 'EDUCATION', 'RESIDENCE.TYPE','CITY', 'STATE', 'ZIP.CODE', 'EMPLOY.CONSTITUTION', 'PAN.STATUS','OWN.HOUSE.TYPE', 'PRIMARY.ASSET.CTG', 'PRIMARY.ASSET.MAKE','PRIMARY.ASSET.MODELNO', 'VOTER_ID', 'DRIVING_LICENSE', 'AADHAAR','PAN', 'BANK_PASSBOOK','AGE','APPLICATION.SCORE','APPLIED.AMOUNT','APPROVED.AMOUNT','LOAN.TENOR']]\n",
    "y=df['APPLICATION.STATUS']\n",
    "x=x.drop(['CURRENT.STAGE','APPROVED.AMOUNT'],axis=1)\n",
    "\n",
    "x_train, x_test, y_train, y_test = train_test_split(x, y, test_size=0.33, random_state=42)\n",
    "\n",
    "def prepareModel(i):\n",
    "    model = tree.DecisionTreeClassifier(min_samples_split=i)\n",
    "    model = model.fit(x_train, y_train)\n",
    "    y_pred=model.predict(x_train)\n",
    "\n",
    "#     print(\"Train Data\")\n",
    "#     print(classification_report(y_train, y_pred))\n",
    "\n",
    "    y_pred=model.predict(x_test)\n",
    "#     print(\"Test Data\")\n",
    "#     print(classification_report(y_test, y_pred))\n",
    "    return model.score(x_test,y_test)\n",
    "    \n",
    "score=[]\n",
    "for i in range(2,200,10):\n",
    "    score.append(prepareModel(i))\n",
    "plt.scatter(range(2,200,10),score)\n",
    "plt.xlabel('min_sample_split')\n",
    "plt.ylabel('accuracy')\n",
    "\n"
   ]
  },
  {
   "cell_type": "code",
   "execution_count": 5,
   "metadata": {},
   "outputs": [
    {
     "name": "stdout",
     "output_type": "stream",
     "text": [
      "Train Data\n",
      "             precision    recall  f1-score   support\n",
      "\n",
      "          0       0.77      0.75      0.76      2986\n",
      "          1       0.68      0.69      0.68      2212\n",
      "\n",
      "avg / total       0.73      0.73      0.73      5198\n",
      "\n",
      "Test Data\n",
      "             precision    recall  f1-score   support\n",
      "\n",
      "          0       0.74      0.74      0.74      1451\n",
      "          1       0.66      0.66      0.66      1110\n",
      "\n",
      "avg / total       0.70      0.71      0.71      2561\n",
      "\n"
     ]
    },
    {
     "data": {
      "text/plain": [
       "0.7051932838734869"
      ]
     },
     "execution_count": 5,
     "metadata": {},
     "output_type": "execute_result"
    }
   ],
   "source": [
    "x=df[['APPLICATION.ID', 'DSA.ID', 'DEALER.ID', 'QUEUE.ID', 'CURRENT.STAGE','MARITAL.STATUS', 'GENDER', 'EDUCATION', 'RESIDENCE.TYPE','CITY', 'STATE', 'ZIP.CODE', 'EMPLOY.CONSTITUTION', 'PAN.STATUS','OWN.HOUSE.TYPE', 'PRIMARY.ASSET.CTG', 'PRIMARY.ASSET.MAKE','PRIMARY.ASSET.MODELNO', 'VOTER_ID', 'DRIVING_LICENSE', 'AADHAAR','PAN', 'BANK_PASSBOOK','AGE','APPLICATION.SCORE','APPLIED.AMOUNT','APPROVED.AMOUNT','LOAN.TENOR']]\n",
    "y=df['APPLICATION.STATUS']\n",
    "x=x.drop(['CURRENT.STAGE','APPROVED.AMOUNT'],axis=1)\n",
    "\n",
    "x_train, x_test, y_train, y_test = train_test_split(x, y, test_size=0.33, random_state=42)\n",
    "\n",
    "def prepareModel():\n",
    "    model = tree.DecisionTreeClassifier(min_samples_split=150,max_depth=6,criterion='entropy')\n",
    "    model = model.fit(x_train, y_train)\n",
    "    y_pred=model.predict(x_train)\n",
    "\n",
    "    print(\"Train Data\")\n",
    "    print(classification_report(y_train, y_pred))\n",
    "\n",
    "    y_pred=model.predict(x_test)\n",
    "    print(\"Test Data\")\n",
    "    print(classification_report(y_test, y_pred))\n",
    "    return model.score(x_test,y_test)\n",
    "\n",
    "prepareModel()"
   ]
  },
  {
   "cell_type": "code",
   "execution_count": 6,
   "metadata": {},
   "outputs": [
    {
     "name": "stdout",
     "output_type": "stream",
     "text": [
      "[0.63920343615775088, 0.67200312377977356, 0.66575556423272164, 0.67005076142131981, 0.68488871534556817, 0.69074580242092931, 0.69972666926981653, 0.70128855915657951, 0.69582194455290902, 0.69308863725107384, 0.69543147208121825, 0.69113627489262008, 0.69621241702459979, 0.69621241702459979, 0.69621241702459979, 0.69621241702459979, 0.69621241702459979, 0.69621241702459979, 0.66341272940257712, 0.66341272940257712]\n"
     ]
    },
    {
     "data": {
      "text/plain": [
       "Text(0,0.5,'accuracy')"
      ]
     },
     "execution_count": 6,
     "metadata": {},
     "output_type": "execute_result"
    },
    {
     "data": {
      "image/png": "[encoded data removed]",
      "text/plain": [
       "<matplotlib.figure.Figure at 0x7fb3083f1ba8>"
      ]
     },
     "metadata": {},
     "output_type": "display_data"
    }
   ],
   "source": [
    "def prepareModel(i):\n",
    "    model = tree.DecisionTreeClassifier(min_samples_leaf=i)\n",
    "    model = model.fit(x_train, y_train)\n",
    "    y_pred=model.predict(x_train)\n",
    "\n",
    "#     print(\"Train Data\")\n",
    "#     print(classification_report(y_train, y_pred))\n",
    "\n",
    "    y_pred=model.predict(x_test)\n",
    "#     print(\"Test Data\")\n",
    "#     print(classification_report(y_test, y_pred))\n",
    "    return model.score(x_test,y_test)\n",
    "    \n",
    "score=[]\n",
    "for i in range(2,200,10):\n",
    "    score.append(prepareModel(i))\n",
    "print(score)\n",
    "plt.scatter(range(2,200,10),score)\n",
    "plt.xlabel('min_sample_leaf')\n",
    "plt.ylabel('accuracy')"
   ]
  },
  {
   "cell_type": "code",
   "execution_count": 7,
   "metadata": {},
   "outputs": [
    {
     "name": "stdout",
     "output_type": "stream",
     "text": [
      "[0.66106989457243259, 0.65989847715736039, 0.70324092151503315, 0.70206950409996094, 0.70285044904334248, 0.69465052713783682, 0.69308863725107384, 0.68606013276064037, 0.6778602108551347, 0.67551737602499029, 0.67122217883639201, 0.65911753221397895, 0.65599375244045299]\n"
     ]
    },
    {
     "data": {
      "text/plain": [
       "Text(0,0.5,'accuracy')"
      ]
     },
     "execution_count": 7,
     "metadata": {},
     "output_type": "execute_result"
    },
    {
     "data": {
      "image/png": "[encoded data removed]",
      "text/plain": [
       "<matplotlib.figure.Figure at 0x7fb307ee09b0>"
      ]
     },
     "metadata": {},
     "output_type": "display_data"
    }
   ],
   "source": [
    "def prepareModel(i):\n",
    "    model = tree.DecisionTreeClassifier(max_depth=i)\n",
    "    model = model.fit(x_train, y_train)\n",
    "    y_pred=model.predict(x_train)\n",
    "\n",
    "#     print(\"Train Data\")\n",
    "#     print(classification_report(y_train, y_pred))\n",
    "\n",
    "    y_pred=model.predict(x_test)\n",
    "#     print(\"Test Data\")\n",
    "#     print(classification_report(y_test, y_pred))\n",
    "    return model.score(x_test,y_test)\n",
    "    \n",
    "score=[]\n",
    "for i in range(2,15,1):\n",
    "    score.append(prepareModel(i))\n",
    "print(score)\n",
    "plt.scatter(range(2,15,1),score)\n",
    "plt.xlabel('max_depth')\n",
    "plt.ylabel('accuracy')"
   ]
  },
  {
   "cell_type": "code",
   "execution_count": 8,
   "metadata": {},
   "outputs": [
    {
     "name": "stdout",
     "output_type": "stream",
     "text": [
      "[0.56891839125341659, 0.56735650136665361, 0.59781335415853187, 0.62241311987504877, 0.63490823896915272, 0.62670831706364705, 0.63334634908238974, 0.6364701288559157, 0.6376415462709879, 0.63022256930886378, 0.64154627098789541, 0.64896524795001953, 0.63412729402577117]\n"
     ]
    },
    {
     "data": {
      "text/plain": [
       "Text(0,0.5,'accuracy')"
      ]
     },
     "execution_count": 8,
     "metadata": {},
     "output_type": "execute_result"
    },
    {
     "data": {
      "image/png": "[encoded data removed]",
      "text/plain": [
       "<matplotlib.figure.Figure at 0x7fb307fdda20>"
      ]
     },
     "metadata": {},
     "output_type": "display_data"
    }
   ],
   "source": [
    "def prepareModel(i):\n",
    "    model = tree.DecisionTreeClassifier(max_features=i)\n",
    "    model = model.fit(x_train, y_train)\n",
    "    y_pred=model.predict(x_train)\n",
    "\n",
    "#     print(\"Train Data\")\n",
    "#     print(classification_report(y_train, y_pred))\n",
    "\n",
    "    y_pred=model.predict(x_test)\n",
    "#     print(\"Test Data\")\n",
    "#     print(classification_report(y_test, y_pred))\n",
    "    return model.score(x_test,y_test)\n",
    "    \n",
    "score=[]\n",
    "for i in range(2,15,1):\n",
    "    score.append(prepareModel(i))\n",
    "print(score)\n",
    "plt.scatter(range(2,15,1),score)\n",
    "plt.xlabel('max_features')\n",
    "plt.ylabel('accuracy')"
   ]
  },
  {
   "cell_type": "code",
   "execution_count": 9,
   "metadata": {},
   "outputs": [
    {
     "name": "stdout",
     "output_type": "stream",
     "text": [
      "[0.64349863334634905, 0.66185083951581414]\n"
     ]
    },
    {
     "data": {
      "text/plain": [
       "Text(0,0.5,'accuracy')"
      ]
     },
     "execution_count": 9,
     "metadata": {},
     "output_type": "execute_result"
    },
    {
     "data": {
      "image/png": "[encoded data removed]",
      "text/plain": [
       "<matplotlib.figure.Figure at 0x7fb3083d9860>"
      ]
     },
     "metadata": {},
     "output_type": "display_data"
    }
   ],
   "source": [
    "def prepareModel(i):\n",
    "    model = tree.DecisionTreeClassifier(criterion=i)\n",
    "    model = model.fit(x_train, y_train)\n",
    "    y_pred=model.predict(x_train)\n",
    "\n",
    "#     print(\"Train Data\")\n",
    "#     print(classification_report(y_train, y_pred))\n",
    "\n",
    "    y_pred=model.predict(x_test)\n",
    "#     print(\"Test Data\")\n",
    "#     print(classification_report(y_test, y_pred))\n",
    "    return model.score(x_test,y_test)\n",
    "    \n",
    "score=[]\n",
    "for i in ['gini','entropy']:\n",
    "    score.append(prepareModel(i))\n",
    "print(score)\n",
    "plt.scatter(['gini','entropy'],score)\n",
    "plt.xlabel('Criterion')\n",
    "plt.ylabel('accuracy')"
   ]
  },
  {
   "cell_type": "code",
   "execution_count": 10,
   "metadata": {},
   "outputs": [
    {
     "ename": "NameError",
     "evalue": "name 'model' is not defined",
     "output_type": "error",
     "traceback": [
      "\u001b[0;31m---------------------------------------------------------------------------\u001b[0m",
      "\u001b[0;31mNameError\u001b[0m                                 Traceback (most recent call last)",
      "\u001b[0;32m<ipython-input-10-ae2203900b5e>\u001b[0m in \u001b[0;36m<module>\u001b[0;34m()\u001b[0m\n\u001b[1;32m      1\u001b[0m \u001b[0;31m# print(x.columns)\u001b[0m\u001b[0;34m\u001b[0m\u001b[0;34m\u001b[0m\u001b[0m\n\u001b[1;32m      2\u001b[0m \u001b[0;31m# model.feature_importances_\u001b[0m\u001b[0;34m\u001b[0m\u001b[0;34m\u001b[0m\u001b[0m\n\u001b[0;32m----> 3\u001b[0;31m \u001b[0mimportances\u001b[0m \u001b[0;34m=\u001b[0m \u001b[0mlist\u001b[0m\u001b[0;34m(\u001b[0m\u001b[0mzip\u001b[0m\u001b[0;34m(\u001b[0m\u001b[0mmodel\u001b[0m\u001b[0;34m.\u001b[0m\u001b[0mfeature_importances_\u001b[0m\u001b[0;34m,\u001b[0m \u001b[0mx\u001b[0m\u001b[0;34m.\u001b[0m\u001b[0mcolumns\u001b[0m\u001b[0;34m)\u001b[0m\u001b[0;34m)\u001b[0m\u001b[0;34m\u001b[0m\u001b[0m\n\u001b[0m\u001b[1;32m      4\u001b[0m \u001b[0mimportances\u001b[0m\u001b[0;34m.\u001b[0m\u001b[0msort\u001b[0m\u001b[0;34m(\u001b[0m\u001b[0mreverse\u001b[0m\u001b[0;34m=\u001b[0m\u001b[0;32mTrue\u001b[0m\u001b[0;34m)\u001b[0m\u001b[0;34m\u001b[0m\u001b[0m\n\u001b[1;32m      5\u001b[0m \u001b[0mimportances\u001b[0m\u001b[0;34m\u001b[0m\u001b[0m\n",
      "\u001b[0;31mNameError\u001b[0m: name 'model' is not defined"
     ]
    }
   ],
   "source": [
    "# print(x.columns)\n",
    "# model.feature_importances_ \n",
    "importances = list(zip(model.feature_importances_, x.columns))\n",
    "importances.sort(reverse=True)\n",
    "importances"
   ]
  },
  {
   "cell_type": "markdown",
   "metadata": {},
   "source": [
    "### Model Using Random Forest"
   ]
  },
  {
   "cell_type": "code",
   "execution_count": 11,
   "metadata": {},
   "outputs": [
    {
     "name": "stdout",
     "output_type": "stream",
     "text": [
      "Train Data\n",
      "             precision    recall  f1-score   support\n",
      "\n",
      "          0       0.68      0.87      0.76      2986\n",
      "          1       0.72      0.45      0.55      2212\n",
      "\n",
      "avg / total       0.70      0.69      0.67      5198\n",
      "\n",
      "Test Data\n",
      "             precision    recall  f1-score   support\n",
      "\n",
      "          0       0.66      0.85      0.74      1451\n",
      "          1       0.68      0.43      0.53      1110\n",
      "\n",
      "avg / total       0.67      0.67      0.65      2561\n",
      "\n"
     ]
    }
   ],
   "source": [
    "def prepareModel():\n",
    "    model = RandomForestClassifier(min_samples_split=150,max_depth=6,criterion='entropy')\n",
    "    model = model.fit(x_train, y_train)\n",
    "    y_pred=model.predict(x_train)\n",
    "\n",
    "    print(\"Train Data\")\n",
    "    print(classification_report(y_train, y_pred))\n",
    "\n",
    "    y_pred=model.predict(x_test)\n",
    "    print(\"Test Data\")\n",
    "    print(classification_report(y_test, y_pred))\n",
    "    return model.score(x_test,y_test)\n",
    "score=prepareModel()"
   ]
  },
  {
   "cell_type": "code",
   "execution_count": 12,
   "metadata": {},
   "outputs": [
    {
     "ename": "NameError",
     "evalue": "name 'model' is not defined",
     "output_type": "error",
     "traceback": [
      "\u001b[0;31m---------------------------------------------------------------------------\u001b[0m",
      "\u001b[0;31mNameError\u001b[0m                                 Traceback (most recent call last)",
      "\u001b[0;32m<ipython-input-12-3668b3a64af3>\u001b[0m in \u001b[0;36m<module>\u001b[0;34m()\u001b[0m\n\u001b[0;32m----> 1\u001b[0;31m \u001b[0mimportances\u001b[0m \u001b[0;34m=\u001b[0m \u001b[0mlist\u001b[0m\u001b[0;34m(\u001b[0m\u001b[0mzip\u001b[0m\u001b[0;34m(\u001b[0m\u001b[0mmodel\u001b[0m\u001b[0;34m.\u001b[0m\u001b[0mfeature_importances_\u001b[0m\u001b[0;34m,\u001b[0m \u001b[0mx\u001b[0m\u001b[0;34m.\u001b[0m\u001b[0mcolumns\u001b[0m\u001b[0;34m)\u001b[0m\u001b[0;34m)\u001b[0m\u001b[0;34m\u001b[0m\u001b[0m\n\u001b[0m\u001b[1;32m      2\u001b[0m \u001b[0mimportances\u001b[0m\u001b[0;34m.\u001b[0m\u001b[0msort\u001b[0m\u001b[0;34m(\u001b[0m\u001b[0mreverse\u001b[0m\u001b[0;34m=\u001b[0m\u001b[0;32mTrue\u001b[0m\u001b[0;34m)\u001b[0m\u001b[0;34m\u001b[0m\u001b[0m\n\u001b[1;32m      3\u001b[0m \u001b[0mimportances\u001b[0m\u001b[0;34m\u001b[0m\u001b[0m\n",
      "\u001b[0;31mNameError\u001b[0m: name 'model' is not defined"
     ]
    }
   ],
   "source": [
    "importances = list(zip(model.feature_importances_, x.columns))\n",
    "importances.sort(reverse=True)\n",
    "importances"
   ]
  },
  {
   "cell_type": "markdown",
   "metadata": {},
   "source": [
    "# Random Forest and XG Boosting"
   ]
  },
  {
   "cell_type": "code",
   "execution_count": 13,
   "metadata": {},
   "outputs": [],
   "source": [
    "from sklearn.tree import DecisionTreeClassifier\n",
    "from sklearn.ensemble import BaggingClassifier,GradientBoostingClassifier,AdaBoostClassifier\n",
    "from sklearn import model_selection\n",
    "from xgboost import XGBClassifier\n",
    "import pandas as pd\n",
    "import numpy as np\n",
    "\n"
   ]
  },
  {
   "cell_type": "code",
   "execution_count": 14,
   "metadata": {},
   "outputs": [],
   "source": [
    "df=pd.read_excel(\"CustomerRelation.xlsx\")\n",
    "for col in ['APPLICATION.ID', 'DSA.ID', 'DEALER.ID', 'QUEUE.ID', 'CURRENT.STAGE','MARITAL.STATUS', 'GENDER', 'EDUCATION', 'RESIDENCE.TYPE','CITY', 'STATE', 'ZIP.CODE', 'EMPLOY.CONSTITUTION', 'PAN.STATUS','OWN.HOUSE.TYPE', 'PRIMARY.ASSET.CTG', 'PRIMARY.ASSET.MAKE','PRIMARY.ASSET.MODELNO', 'VOTER_ID', 'DRIVING_LICENSE', 'AADHAAR','PAN', 'BANK_PASSBOOK', 'APPLICATION.STATUS']:\n",
    "    df[col]=df[col].astype('category')\n",
    "    df[col] = df[col].cat.codes\n",
    "    df[col]=df[col].astype('category')\n",
    "    \n",
    "for col in ['AGE','APPLICATION.SCORE','APPROVED.AMOUNT','APPLIED.AMOUNT','LOAN.TENOR']:\n",
    "    df[col]=df[col].astype('int64')\n",
    "    \n",
    "x=df[['APPLICATION.ID', 'DSA.ID', 'DEALER.ID', 'QUEUE.ID', 'CURRENT.STAGE','MARITAL.STATUS', 'GENDER', 'EDUCATION', 'RESIDENCE.TYPE','CITY', 'STATE', 'ZIP.CODE', 'EMPLOY.CONSTITUTION', 'PAN.STATUS','OWN.HOUSE.TYPE', 'PRIMARY.ASSET.CTG', 'PRIMARY.ASSET.MAKE','PRIMARY.ASSET.MODELNO', 'VOTER_ID', 'DRIVING_LICENSE', 'AADHAAR','PAN', 'BANK_PASSBOOK','AGE','APPLICATION.SCORE','APPLIED.AMOUNT','APPROVED.AMOUNT','LOAN.TENOR']]\n",
    "y=df['APPLICATION.STATUS']\n",
    "x=x.drop(['CURRENT.STAGE','APPROVED.AMOUNT'],axis=1)\n"
   ]
  },
  {
   "cell_type": "code",
   "execution_count": 15,
   "metadata": {},
   "outputs": [
    {
     "name": "stdout",
     "output_type": "stream",
     "text": [
      "[0.64857477547832876, 0.68879344006247556, 0.69074580242092931, 0.69152674736431086, 0.69465052713783682, 0.68996485747754788, 0.69308863725107384, 0.69972666926981653, 0.70363139398672392, 0.69465052713783682]\n"
     ]
    },
    {
     "data": {
      "text/plain": [
       "Text(0,0.5,'accuracy')"
      ]
     },
     "execution_count": 15,
     "metadata": {},
     "output_type": "execute_result"
    },
    {
     "data": {
      "image/png": "[encoded data removed]",
      "text/plain": [
       "<matplotlib.figure.Figure at 0x7fb307f60d68>"
      ]
     },
     "metadata": {},
     "output_type": "display_data"
    }
   ],
   "source": [
    "x_train, x_test, y_train, y_test = train_test_split(x, y, test_size=0.33, random_state=42)\n",
    "\n",
    "def prepareModel(num_trees):\n",
    "    model = BaggingClassifier(n_estimators=num_trees)\n",
    "    model.fit(x_train,y_train)\n",
    "    accuracy=model.score(x_test,y_test)    \n",
    "    return accuracy\n",
    "\n",
    "score=[]\n",
    "for i in range(2,160,17):\n",
    "    score.append(prepareModel(i))\n",
    "print(score)\n",
    "plt.scatter(range(2,160,17),score)\n",
    "plt.title('Bagging Classifier-Increase in Trees')\n",
    "plt.xlabel('Number of trees')\n",
    "plt.ylabel('accuracy')"
   ]
  },
  {
   "cell_type": "code",
   "execution_count": 16,
   "metadata": {},
   "outputs": [
    {
     "data": {
      "text/plain": [
       "Text(0,0.5,'accuracy')"
      ]
     },
     "execution_count": 16,
     "metadata": {},
     "output_type": "execute_result"
    },
    {
     "data": {
      "image/png": "[encoded data removed]",
      "text/plain": [
       "<matplotlib.figure.Figure at 0x7fb307ed6128>"
      ]
     },
     "metadata": {},
     "output_type": "display_data"
    }
   ],
   "source": [
    "x_train, x_test, y_train, y_test = train_test_split(x, y, test_size=0.33, random_state=42)\n",
    "\n",
    "def prepareModel(i):\n",
    "    model = BaggingClassifier(max_features=i,n_estimators=100,bootstrap=True,)\n",
    "    model.fit(x_train,y_train)\n",
    "    accuracy=model.score(x_test,y_test)    \n",
    "    return accuracy\n",
    "\n",
    "score=[]\n",
    "for i in range(2,27):\n",
    "    score.append(prepareModel(i))\n",
    "plt.scatter(range(2,27),score)\n",
    "plt.title('Bagging Classifier(100 Trees)-Maximum features')\n",
    "plt.xlabel('Maximum Features')\n",
    "plt.ylabel('accuracy')"
   ]
  },
  {
   "cell_type": "code",
   "execution_count": 17,
   "metadata": {},
   "outputs": [
    {
     "name": "stdout",
     "output_type": "stream",
     "text": [
      "[0.60015618898867629, 0.67512690355329952, 0.67825068332682548, 0.68606013276064037, 0.68371729793049585, 0.68254588051542364, 0.67864115579851625, 0.69113627489262008, 0.69308863725107384, 0.6884029675907849]\n"
     ]
    },
    {
     "data": {
      "text/plain": [
       "Text(0,0.5,'accuracy')"
      ]
     },
     "execution_count": 17,
     "metadata": {},
     "output_type": "execute_result"
    },
    {
     "data": {
      "image/png": "[encoded data removed]",
      "text/plain": [
       "<matplotlib.figure.Figure at 0x7fb307b25320>"
      ]
     },
     "metadata": {},
     "output_type": "display_data"
    }
   ],
   "source": [
    "x_train, x_test, y_train, y_test = train_test_split(x, y, test_size=0.33, random_state=42)\n",
    "\n",
    "def prepareModel(i):\n",
    "    model = RandomForestClassifier(n_estimators=i)\n",
    "    model.fit(x_train,y_train)\n",
    "    accuracy=model.score(x_test,y_test)    \n",
    "    return accuracy\n",
    "\n",
    "score=[]\n",
    "for i in range(2,160,17):\n",
    "    score.append(prepareModel(i))\n",
    "print(score)\n",
    "plt.scatter(range(2,160,17),score)\n",
    "plt.title('Random Forest-Increase in Trees')\n",
    "plt.xlabel('Number of trees')\n",
    "plt.ylabel('accuracy')"
   ]
  },
  {
   "cell_type": "code",
   "execution_count": 18,
   "metadata": {},
   "outputs": [
    {
     "data": {
      "text/plain": [
       "Text(0,0.5,'accuracy')"
      ]
     },
     "execution_count": 18,
     "metadata": {},
     "output_type": "execute_result"
    },
    {
     "data": {
      "image/png": "[encoded data removed]",
      "text/plain": [
       "<matplotlib.figure.Figure at 0x7fb2fe220518>"
      ]
     },
     "metadata": {},
     "output_type": "display_data"
    }
   ],
   "source": [
    "x_train, x_test, y_train, y_test = train_test_split(x, y, test_size=0.33, random_state=42)\n",
    "\n",
    "def prepareModel(i):\n",
    "    model = RandomForestClassifier(max_features=i,n_estimators=80)   \n",
    "    model.fit(x_train,y_train)\n",
    "    accuracy=model.score(x_test,y_test)    \n",
    "    return accuracy\n",
    "\n",
    "score=[]\n",
    "for i in range(1,27):\n",
    "    score.append(prepareModel(i))\n",
    "plt.scatter(range(1,27),score)\n",
    "plt.title('Random Forest (trees=80)-Maximum features')\n",
    "plt.xlabel('Number of maximum features')\n",
    "plt.ylabel('accuracy')"
   ]
  },
  {
   "cell_type": "code",
   "execution_count": 19,
   "metadata": {},
   "outputs": [
    {
     "data": {
      "text/plain": [
       "Text(0,0.5,'accuracy')"
      ]
     },
     "execution_count": 19,
     "metadata": {},
     "output_type": "execute_result"
    },
    {
     "data": {
      "image/png": "[encoded data removed]",
      "text/plain": [
       "<matplotlib.figure.Figure at 0x7fb307d37c88>"
      ]
     },
     "metadata": {},
     "output_type": "display_data"
    }
   ],
   "source": [
    "x_train, x_test, y_train, y_test = train_test_split(x, y, test_size=0.33, random_state=42)\n",
    "\n",
    "def prepareModel(i):\n",
    "    model = GradientBoostingClassifier(n_estimators=i)   \n",
    "    model.fit(x_train,y_train)\n",
    "    accuracy=model.score(x_test,y_test)    \n",
    "    return accuracy\n",
    "\n",
    "score=[]\n",
    "for i in range(2,200,17):\n",
    "    score.append(prepareModel(i))\n",
    "plt.scatter(range(2,200,17),score)\n",
    "plt.title('Gradient Boosting - with trees')\n",
    "plt.xlabel('Number of trees')\n",
    "plt.ylabel('accuracy')"
   ]
  },
  {
   "cell_type": "code",
   "execution_count": 20,
   "metadata": {},
   "outputs": [
    {
     "data": {
      "text/plain": [
       "Text(0,0.5,'accuracy')"
      ]
     },
     "execution_count": 20,
     "metadata": {},
     "output_type": "execute_result"
    },
    {
     "data": {
      "image/png": "[encoded data removed]",
      "text/plain": [
       "<matplotlib.figure.Figure at 0x7fb2fe119f98>"
      ]
     },
     "metadata": {},
     "output_type": "display_data"
    }
   ],
   "source": [
    "x_train, x_test, y_train, y_test = train_test_split(x, y, test_size=0.33, random_state=42)\n",
    "\n",
    "def prepareModel(i):\n",
    "    model = GradientBoostingClassifier(max_features=i,n_estimators=20)   \n",
    "    model.fit(x_train,y_train)\n",
    "    accuracy=model.score(x_test,y_test)    \n",
    "    return accuracy\n",
    "\n",
    "score=[]\n",
    "for i in range(1,27):\n",
    "    score.append(prepareModel(i))\n",
    "plt.scatter(range(1,27),score)\n",
    "plt.title('Gradient Boosting - Max features')\n",
    "plt.xlabel('Maximum Features')\n",
    "plt.ylabel('accuracy')"
   ]
  },
  {
   "cell_type": "code",
   "execution_count": 21,
   "metadata": {},
   "outputs": [
    {
     "data": {
      "text/plain": [
       "Text(0,0.5,'accuracy')"
      ]
     },
     "execution_count": 21,
     "metadata": {},
     "output_type": "execute_result"
    },
    {
     "data": {
      "image/png": "[encoded data removed]",
      "text/plain": [
       "<matplotlib.figure.Figure at 0x7fb2fe0cd3c8>"
      ]
     },
     "metadata": {},
     "output_type": "display_data"
    }
   ],
   "source": [
    "df=pd.read_excel(\"CustomerRelation.xlsx\")\n",
    "for col in ['APPLICATION.ID', 'DSA.ID', 'DEALER.ID', 'QUEUE.ID', 'CURRENT.STAGE','MARITAL.STATUS', 'GENDER', 'EDUCATION', 'RESIDENCE.TYPE','CITY', 'STATE', 'ZIP.CODE', 'EMPLOY.CONSTITUTION', 'PAN.STATUS','OWN.HOUSE.TYPE', 'PRIMARY.ASSET.CTG', 'PRIMARY.ASSET.MAKE','PRIMARY.ASSET.MODELNO', 'VOTER_ID', 'DRIVING_LICENSE', 'AADHAAR','PAN', 'BANK_PASSBOOK', 'APPLICATION.STATUS']:\n",
    "    df[col]=df[col].astype('category')\n",
    "    df[col] = df[col].cat.codes\n",
    "    \n",
    "for col in ['AGE','APPLICATION.SCORE','APPROVED.AMOUNT','APPLIED.AMOUNT','LOAN.TENOR']:\n",
    "    df[col]=df[col].astype('int64')\n",
    "    \n",
    "x=df[['APPLICATION.ID', 'DSA.ID', 'DEALER.ID', 'QUEUE.ID', 'CURRENT.STAGE','MARITAL.STATUS', 'GENDER', 'EDUCATION', 'RESIDENCE.TYPE','CITY', 'STATE', 'ZIP.CODE', 'EMPLOY.CONSTITUTION', 'PAN.STATUS','OWN.HOUSE.TYPE', 'PRIMARY.ASSET.CTG', 'PRIMARY.ASSET.MAKE','PRIMARY.ASSET.MODELNO', 'VOTER_ID', 'DRIVING_LICENSE', 'AADHAAR','PAN', 'BANK_PASSBOOK','AGE','APPLICATION.SCORE','APPLIED.AMOUNT','APPROVED.AMOUNT','LOAN.TENOR']]\n",
    "y=df['APPLICATION.STATUS']\n",
    "x=x.drop(['CURRENT.STAGE','APPROVED.AMOUNT'],axis=1)\n",
    "\n",
    "\n",
    "\n",
    "\n",
    "x_train, x_test, y_train, y_test = train_test_split(x, y, test_size=0.33, random_state=42)\n",
    "\n",
    "def prepareModel(i):  \n",
    "    model = XGBClassifier(n_estimators=i)\n",
    "    model.fit(x_train,y_train)\n",
    "    accuracy=model.score(x_test,y_test)    \n",
    "    return accuracy\n",
    "\n",
    "score=[]\n",
    "for i in range(2,200,17):\n",
    "    score.append(prepareModel(i))\n",
    "plt.scatter(range(2,200,17),score)\n",
    "plt.title('XG Boost with number of trees')\n",
    "plt.xlabel('Maximum Features')\n",
    "plt.ylabel('accuracy')"
   ]
  },
  {
   "cell_type": "code",
   "execution_count": 22,
   "metadata": {},
   "outputs": [
    {
     "data": {
      "text/plain": [
       "Text(0,0.5,'accuracy')"
      ]
     },
     "execution_count": 22,
     "metadata": {},
     "output_type": "execute_result"
    },
    {
     "data": {
      "image/png": "[encoded data removed]",
      "text/plain": [
       "<matplotlib.figure.Figure at 0x7fb307f60320>"
      ]
     },
     "metadata": {},
     "output_type": "display_data"
    }
   ],
   "source": [
    "x_train, x_test, y_train, y_test = train_test_split(x, y, test_size=0.33, random_state=42)\n",
    "\n",
    "def prepareModel(i):  \n",
    "    model = XGBClassifier(n_estimators=70,learning_rate =i)\n",
    "    model.fit(x_train,y_train)\n",
    "    accuracy=model.score(x_test,y_test)    \n",
    "    return accuracy\n",
    "\n",
    "score=[]\n",
    "for i in [.005,.01,.022,.044,.088,.1,.125,.175,.25,.37,.5,.75,1]:\n",
    "    score.append(prepareModel(i))\n",
    "plt.scatter([.005,.01,.022,.044,.088,.1,.125,.175,.25,.37,.5,.75,1],score)\n",
    "plt.title('XG Boost with Learning Rate')\n",
    "plt.xlabel('Learning Rate')\n",
    "plt.ylabel('accuracy')"
   ]
  },
  {
   "cell_type": "code",
   "execution_count": 23,
   "metadata": {},
   "outputs": [
    {
     "data": {
      "text/plain": [
       "Text(0,0.5,'accuracy')"
      ]
     },
     "execution_count": 23,
     "metadata": {},
     "output_type": "execute_result"
    },
    {
     "data": {
      "image/png": "[encoded data removed]",
      "text/plain": [
       "<matplotlib.figure.Figure at 0x7fb2fe198908>"
      ]
     },
     "metadata": {},
     "output_type": "display_data"
    }
   ],
   "source": [
    "df=pd.read_excel(\"CustomerRelation.xlsx\")\n",
    "for col in ['APPLICATION.ID', 'DSA.ID', 'DEALER.ID', 'QUEUE.ID', 'CURRENT.STAGE','MARITAL.STATUS', 'GENDER', 'EDUCATION', 'RESIDENCE.TYPE','CITY', 'STATE', 'ZIP.CODE', 'EMPLOY.CONSTITUTION', 'PAN.STATUS','OWN.HOUSE.TYPE', 'PRIMARY.ASSET.CTG', 'PRIMARY.ASSET.MAKE','PRIMARY.ASSET.MODELNO', 'VOTER_ID', 'DRIVING_LICENSE', 'AADHAAR','PAN', 'BANK_PASSBOOK', 'APPLICATION.STATUS']:\n",
    "    df[col]=df[col].astype('category')\n",
    "    df[col] = df[col].cat.codes\n",
    "    \n",
    "for col in ['AGE','APPLICATION.SCORE','APPROVED.AMOUNT','APPLIED.AMOUNT','LOAN.TENOR']:\n",
    "    df[col]=df[col].astype('int64')\n",
    "    \n",
    "x=df[['APPLICATION.ID', 'DSA.ID', 'DEALER.ID', 'QUEUE.ID', 'CURRENT.STAGE','MARITAL.STATUS', 'GENDER', 'EDUCATION', 'RESIDENCE.TYPE','CITY', 'STATE', 'ZIP.CODE', 'EMPLOY.CONSTITUTION', 'PAN.STATUS','OWN.HOUSE.TYPE', 'PRIMARY.ASSET.CTG', 'PRIMARY.ASSET.MAKE','PRIMARY.ASSET.MODELNO', 'VOTER_ID', 'DRIVING_LICENSE', 'AADHAAR','PAN', 'BANK_PASSBOOK','AGE','APPLICATION.SCORE','APPLIED.AMOUNT','APPROVED.AMOUNT','LOAN.TENOR']]\n",
    "y=df['APPLICATION.STATUS']\n",
    "x=x.drop(['CURRENT.STAGE','APPROVED.AMOUNT'],axis=1)\n",
    "\n",
    "\n",
    "\n",
    "\n",
    "x_train, x_test, y_train, y_test = train_test_split(x, y, test_size=0.33, random_state=42)\n",
    "\n",
    "def prepareModel(i):  \n",
    "    model = AdaBoostClassifier(n_estimators=i)\n",
    "    model.fit(x_train,y_train)\n",
    "    accuracy=model.score(x_test,y_test)    \n",
    "    return accuracy\n",
    "\n",
    "score=[]\n",
    "for i in range(2,200,13):\n",
    "    score.append(prepareModel(i))\n",
    "plt.scatter(range(2,200,13),score)\n",
    "plt.title('AdaBoost with number of trees')\n",
    "plt.xlabel('Number of trees')\n",
    "plt.ylabel('accuracy')"
   ]
  },
  {
   "cell_type": "code",
   "execution_count": 24,
   "metadata": {},
   "outputs": [
    {
     "data": {
      "text/plain": [
       "Text(0,0.5,'accuracy')"
      ]
     },
     "execution_count": 24,
     "metadata": {},
     "output_type": "execute_result"
    },
    {
     "data": {
      "image/png": "[encoded data removed]",
      "text/plain": [
       "<matplotlib.figure.Figure at 0x7fb2fdf75400>"
      ]
     },
     "metadata": {},
     "output_type": "display_data"
    }
   ],
   "source": [
    "df=pd.read_excel(\"CustomerRelation.xlsx\")\n",
    "for col in ['APPLICATION.ID', 'DSA.ID', 'DEALER.ID', 'QUEUE.ID', 'CURRENT.STAGE','MARITAL.STATUS', 'GENDER', 'EDUCATION', 'RESIDENCE.TYPE','CITY', 'STATE', 'ZIP.CODE', 'EMPLOY.CONSTITUTION', 'PAN.STATUS','OWN.HOUSE.TYPE', 'PRIMARY.ASSET.CTG', 'PRIMARY.ASSET.MAKE','PRIMARY.ASSET.MODELNO', 'VOTER_ID', 'DRIVING_LICENSE', 'AADHAAR','PAN', 'BANK_PASSBOOK', 'APPLICATION.STATUS']:\n",
    "    df[col]=df[col].astype('category')\n",
    "    df[col] = df[col].cat.codes\n",
    "    \n",
    "for col in ['AGE','APPLICATION.SCORE','APPROVED.AMOUNT','APPLIED.AMOUNT','LOAN.TENOR']:\n",
    "    df[col]=df[col].astype('int64')\n",
    "    \n",
    "x=df[['APPLICATION.ID', 'DSA.ID', 'DEALER.ID', 'QUEUE.ID', 'CURRENT.STAGE','MARITAL.STATUS', 'GENDER', 'EDUCATION', 'RESIDENCE.TYPE','CITY', 'STATE', 'ZIP.CODE', 'EMPLOY.CONSTITUTION', 'PAN.STATUS','OWN.HOUSE.TYPE', 'PRIMARY.ASSET.CTG', 'PRIMARY.ASSET.MAKE','PRIMARY.ASSET.MODELNO', 'VOTER_ID', 'DRIVING_LICENSE', 'AADHAAR','PAN', 'BANK_PASSBOOK','AGE','APPLICATION.SCORE','APPLIED.AMOUNT','APPROVED.AMOUNT','LOAN.TENOR']]\n",
    "y=df['APPLICATION.STATUS']\n",
    "x=x.drop(['CURRENT.STAGE','APPROVED.AMOUNT'],axis=1)\n",
    "\n",
    "\n",
    "\n",
    "\n",
    "x_train, x_test, y_train, y_test = train_test_split(x, y, test_size=0.33, random_state=42)\n",
    "\n",
    "def prepareModel(model):  \n",
    "    model.fit(x_train,y_train)\n",
    "    accuracy=model.score(x_test,y_test)    \n",
    "    return accuracy\n",
    "\n",
    "score=[]\n",
    "for model in [AdaBoostClassifier(),XGBClassifier(),GradientBoostingClassifier(),RandomForestClassifier()]:\n",
    "    score.append(prepareModel(model))\n",
    "plt.scatter(['AdaBoost','XG Boost','Gradient Boosting','Random Forest'],score)\n",
    "plt.title('Comparison of Various Models')\n",
    "plt.xlabel('Model Type')\n",
    "plt.ylabel('accuracy')"
   ]
  },
  {
   "cell_type": "code",
   "execution_count": 31,
   "metadata": {},
   "outputs": [
    {
     "data": {
      "text/plain": [
       "Text(0,0.5,'accuracy')"
      ]
     },
     "execution_count": 31,
     "metadata": {},
     "output_type": "execute_result"
    },
    {
     "data": {
      "image/png": "[encoded data removed]",
      "text/plain": [
       "<matplotlib.figure.Figure at 0x7fb2fdfebd68>"
      ]
     },
     "metadata": {},
     "output_type": "display_data"
    }
   ],
   "source": [
    "def prepareModel(model):  \n",
    "    model.fit(x_train,y_train)\n",
    "    accuracy=model.score(x_test,y_test)    \n",
    "    return accuracy\n",
    "\n",
    "score=[]\n",
    "for model in [AdaBoostClassifier(),XGBClassifier(),GradientBoostingClassifier(),RandomForestClassifier(),tree.DecisionTreeClassifier()]:\n",
    "    score.append(prepareModel(model))\n",
    "plt.figure(figsize=(8,5))\n",
    "plt.scatter(['AdaBoost','XGBoost','GradientBoosting','RandomForest','DecisionTree'],score)\n",
    "\n",
    "plt.title('Comparison of Various Models')\n",
    "plt.xlabel('Model Type')\n",
    "plt.ylabel('accuracy')"
   ]
  },
  {
   "cell_type": "markdown",
   "metadata": {},
   "source": [
    "### Final Model"
   ]
  },
  {
   "cell_type": "code",
   "execution_count": 33,
   "metadata": {},
   "outputs": [
    {
     "data": {
      "text/plain": [
       "Text(0,0.5,'accuracy')"
      ]
     },
     "execution_count": 33,
     "metadata": {},
     "output_type": "execute_result"
    },
    {
     "data": {
      "image/png": "[encoded data removed]",
      "text/plain": [
       "<matplotlib.figure.Figure at 0x7fb308249390>"
      ]
     },
     "metadata": {},
     "output_type": "display_data"
    }
   ],
   "source": [
    "def prepareModel(i):  \n",
    "    model = XGBClassifier(n_estimators=70,learning_rate=.1,booster=i)\n",
    "    model.fit(x_train,y_train)\n",
    "    accuracy=model.score(x_test,y_test)    \n",
    "    return accuracy\n",
    "\n",
    "score=[]\n",
    "for i in ['gbtree','gblinear','dart']:\n",
    "    score.append(prepareModel(i))\n",
    "plt.scatter(['gbtree','gblinear','dart'],score)\n",
    "plt.title('XG Boost with different booster')\n",
    "plt.xlabel('Type of Booster')\n",
    "plt.ylabel('accuracy')"
   ]
  },
  {
   "cell_type": "code",
   "execution_count": 35,
   "metadata": {},
   "outputs": [
    {
     "name": "stdout",
     "output_type": "stream",
     "text": [
      "Train Data\n",
      "             precision    recall  f1-score   support\n",
      "\n",
      "          0       0.76      0.77      0.77      2986\n",
      "          1       0.69      0.68      0.68      2212\n",
      "\n",
      "avg / total       0.73      0.73      0.73      5198\n",
      "\n",
      "Test Data\n",
      "             precision    recall  f1-score   support\n",
      "\n",
      "          0       0.74      0.75      0.75      1451\n",
      "          1       0.67      0.65      0.66      1110\n",
      "\n",
      "avg / total       0.71      0.71      0.71      2561\n",
      "\n"
     ]
    }
   ],
   "source": [
    "def prepareModel():  \n",
    "    model = XGBClassifier(n_estimators=70,learning_rate=.1,booster='gbtree')\n",
    "    model.fit(x_train, y_train)\n",
    "    y_pred=model.predict(x_train)\n",
    "\n",
    "    print(\"Train Data\")\n",
    "    print(classification_report(y_train, y_pred))\n",
    "\n",
    "    y_pred=model.predict(x_test)\n",
    "    print(\"Test Data\")\n",
    "    print(classification_report(y_test, y_pred))\n",
    "    return model\n",
    "model=prepareModel()\n"
   ]
  },
  {
   "cell_type": "code",
   "execution_count": 44,
   "metadata": {},
   "outputs": [
    {
     "data": {
      "text/plain": [
       "[(0.33333334, 'APPLICATION.SCORE'),\n",
       " (0.14788732, 'AGE'),\n",
       " (0.13615024, 'QUEUE.ID'),\n",
       " (0.044600938, 'PRIMARY.ASSET.MODELNO'),\n",
       " (0.04225352, 'ZIP.CODE'),\n",
       " (0.039906103, 'PRIMARY.ASSET.MAKE'),\n",
       " (0.037558686, 'RESIDENCE.TYPE'),\n",
       " (0.035211269, 'STATE'),\n",
       " (0.035211269, 'DSA.ID'),\n",
       " (0.028169014, 'CITY'),\n",
       " (0.028169014, 'APPLICATION.ID'),\n",
       " (0.023474179, 'PRIMARY.ASSET.CTG'),\n",
       " (0.016431924, 'OWN.HOUSE.TYPE'),\n",
       " (0.016431924, 'EMPLOY.CONSTITUTION'),\n",
       " (0.014084507, 'APPLIED.AMOUNT'),\n",
       " (0.0093896715, 'LOAN.TENOR'),\n",
       " (0.0093896715, 'EDUCATION'),\n",
       " (0.0023474179, 'VOTER_ID'),\n",
       " (0.0, 'PAN.STATUS'),\n",
       " (0.0, 'PAN'),\n",
       " (0.0, 'MARITAL.STATUS'),\n",
       " (0.0, 'GENDER'),\n",
       " (0.0, 'DRIVING_LICENSE'),\n",
       " (0.0, 'DEALER.ID'),\n",
       " (0.0, 'BANK_PASSBOOK'),\n",
       " (0.0, 'AADHAAR')]"
      ]
     },
     "execution_count": 44,
     "metadata": {},
     "output_type": "execute_result"
    }
   ],
   "source": [
    "importances = list(zip(model.feature_importances_, x.columns))\n",
    "importances.sort(reverse=True)\n",
    "importances"
   ]
  },
  {
   "cell_type": "code",
   "execution_count": 64,
   "metadata": {},
   "outputs": [
    {
     "data": {
      "text/html": [
       "<div>\n",
       "<style scoped>\n",
       "    .dataframe tbody tr th:only-of-type {\n",
       "        vertical-align: middle;\n",
       "    }\n",
       "\n",
       "    .dataframe tbody tr th {\n",
       "        vertical-align: top;\n",
       "    }\n",
       "\n",
       "    .dataframe thead th {\n",
       "        text-align: right;\n",
       "    }\n",
       "</style>\n",
       "<table border=\"1\" class=\"dataframe\">\n",
       "  <thead>\n",
       "    <tr style=\"text-align: right;\">\n",
       "      <th></th>\n",
       "      <th>Feature</th>\n",
       "      <th>Importance</th>\n",
       "    </tr>\n",
       "  </thead>\n",
       "  <tbody>\n",
       "    <tr>\n",
       "      <th>23</th>\n",
       "      <td>APPLICATION.SCORE</td>\n",
       "      <td>0.333333</td>\n",
       "    </tr>\n",
       "    <tr>\n",
       "      <th>22</th>\n",
       "      <td>AGE</td>\n",
       "      <td>0.147887</td>\n",
       "    </tr>\n",
       "    <tr>\n",
       "      <th>3</th>\n",
       "      <td>QUEUE.ID</td>\n",
       "      <td>0.136150</td>\n",
       "    </tr>\n",
       "    <tr>\n",
       "      <th>16</th>\n",
       "      <td>PRIMARY.ASSET.MODELNO</td>\n",
       "      <td>0.044601</td>\n",
       "    </tr>\n",
       "    <tr>\n",
       "      <th>10</th>\n",
       "      <td>ZIP.CODE</td>\n",
       "      <td>0.042254</td>\n",
       "    </tr>\n",
       "    <tr>\n",
       "      <th>15</th>\n",
       "      <td>PRIMARY.ASSET.MAKE</td>\n",
       "      <td>0.039906</td>\n",
       "    </tr>\n",
       "    <tr>\n",
       "      <th>7</th>\n",
       "      <td>RESIDENCE.TYPE</td>\n",
       "      <td>0.037559</td>\n",
       "    </tr>\n",
       "    <tr>\n",
       "      <th>1</th>\n",
       "      <td>DSA.ID</td>\n",
       "      <td>0.035211</td>\n",
       "    </tr>\n",
       "    <tr>\n",
       "      <th>9</th>\n",
       "      <td>STATE</td>\n",
       "      <td>0.035211</td>\n",
       "    </tr>\n",
       "    <tr>\n",
       "      <th>0</th>\n",
       "      <td>APPLICATION.ID</td>\n",
       "      <td>0.028169</td>\n",
       "    </tr>\n",
       "    <tr>\n",
       "      <th>8</th>\n",
       "      <td>CITY</td>\n",
       "      <td>0.028169</td>\n",
       "    </tr>\n",
       "    <tr>\n",
       "      <th>14</th>\n",
       "      <td>PRIMARY.ASSET.CTG</td>\n",
       "      <td>0.023474</td>\n",
       "    </tr>\n",
       "    <tr>\n",
       "      <th>13</th>\n",
       "      <td>OWN.HOUSE.TYPE</td>\n",
       "      <td>0.016432</td>\n",
       "    </tr>\n",
       "    <tr>\n",
       "      <th>11</th>\n",
       "      <td>EMPLOY.CONSTITUTION</td>\n",
       "      <td>0.016432</td>\n",
       "    </tr>\n",
       "    <tr>\n",
       "      <th>24</th>\n",
       "      <td>APPLIED.AMOUNT</td>\n",
       "      <td>0.014085</td>\n",
       "    </tr>\n",
       "    <tr>\n",
       "      <th>6</th>\n",
       "      <td>EDUCATION</td>\n",
       "      <td>0.009390</td>\n",
       "    </tr>\n",
       "    <tr>\n",
       "      <th>25</th>\n",
       "      <td>LOAN.TENOR</td>\n",
       "      <td>0.009390</td>\n",
       "    </tr>\n",
       "    <tr>\n",
       "      <th>17</th>\n",
       "      <td>VOTER_ID</td>\n",
       "      <td>0.002347</td>\n",
       "    </tr>\n",
       "    <tr>\n",
       "      <th>12</th>\n",
       "      <td>PAN.STATUS</td>\n",
       "      <td>0.000000</td>\n",
       "    </tr>\n",
       "    <tr>\n",
       "      <th>5</th>\n",
       "      <td>GENDER</td>\n",
       "      <td>0.000000</td>\n",
       "    </tr>\n",
       "    <tr>\n",
       "      <th>18</th>\n",
       "      <td>DRIVING_LICENSE</td>\n",
       "      <td>0.000000</td>\n",
       "    </tr>\n",
       "    <tr>\n",
       "      <th>19</th>\n",
       "      <td>AADHAAR</td>\n",
       "      <td>0.000000</td>\n",
       "    </tr>\n",
       "    <tr>\n",
       "      <th>20</th>\n",
       "      <td>PAN</td>\n",
       "      <td>0.000000</td>\n",
       "    </tr>\n",
       "    <tr>\n",
       "      <th>21</th>\n",
       "      <td>BANK_PASSBOOK</td>\n",
       "      <td>0.000000</td>\n",
       "    </tr>\n",
       "    <tr>\n",
       "      <th>4</th>\n",
       "      <td>MARITAL.STATUS</td>\n",
       "      <td>0.000000</td>\n",
       "    </tr>\n",
       "    <tr>\n",
       "      <th>2</th>\n",
       "      <td>DEALER.ID</td>\n",
       "      <td>0.000000</td>\n",
       "    </tr>\n",
       "  </tbody>\n",
       "</table>\n",
       "</div>"
      ],
      "text/plain": [
       "                  Feature  Importance\n",
       "23      APPLICATION.SCORE    0.333333\n",
       "22                    AGE    0.147887\n",
       "3                QUEUE.ID    0.136150\n",
       "16  PRIMARY.ASSET.MODELNO    0.044601\n",
       "10               ZIP.CODE    0.042254\n",
       "15     PRIMARY.ASSET.MAKE    0.039906\n",
       "7          RESIDENCE.TYPE    0.037559\n",
       "1                  DSA.ID    0.035211\n",
       "9                   STATE    0.035211\n",
       "0          APPLICATION.ID    0.028169\n",
       "8                    CITY    0.028169\n",
       "14      PRIMARY.ASSET.CTG    0.023474\n",
       "13         OWN.HOUSE.TYPE    0.016432\n",
       "11    EMPLOY.CONSTITUTION    0.016432\n",
       "24         APPLIED.AMOUNT    0.014085\n",
       "6               EDUCATION    0.009390\n",
       "25             LOAN.TENOR    0.009390\n",
       "17               VOTER_ID    0.002347\n",
       "12             PAN.STATUS    0.000000\n",
       "5                  GENDER    0.000000\n",
       "18        DRIVING_LICENSE    0.000000\n",
       "19                AADHAAR    0.000000\n",
       "20                    PAN    0.000000\n",
       "21          BANK_PASSBOOK    0.000000\n",
       "4          MARITAL.STATUS    0.000000\n",
       "2               DEALER.ID    0.000000"
      ]
     },
     "execution_count": 64,
     "metadata": {},
     "output_type": "execute_result"
    }
   ],
   "source": [
    "imp=pd.DataFrame({'Feature':x.columns,'Importance':model.feature_importances_})\n",
    "imp.sort_values(by='Importance', ascending=False)"
   ]
  },
  {
   "cell_type": "code",
   "execution_count": 65,
   "metadata": {},
   "outputs": [
    {
     "data": {
      "text/plain": [
       "<matplotlib.axes._subplots.AxesSubplot at 0x7fb2fd9011d0>"
      ]
     },
     "execution_count": 65,
     "metadata": {},
     "output_type": "execute_result"
    },
    {
     "data": {
      "image/png": "[encoded data removed]",
      "text/plain": [
       "<matplotlib.figure.Figure at 0x7fb2fd8f93c8>"
      ]
     },
     "metadata": {},
     "output_type": "display_data"
    }
   ],
   "source": [
    "imp.plot()"
   ]
  },
  {
   "cell_type": "code",
   "execution_count": null,
   "metadata": {},
   "outputs": [],
   "source": []
  }
 ],
 "metadata": {
  "kernelspec": {
   "display_name": "Python 3",
   "language": "python",
   "name": "python3"
  },
  "language_info": {
   "codemirror_mode": {
    "name": "ipython",
    "version": 3
   },
   "file_extension": ".py",
   "mimetype": "text/x-python",
   "name": "python",
   "nbconvert_exporter": "python",
   "pygments_lexer": "ipython3",
   "version": "3.7.2"
  }
 },
 "nbformat": 4,
 "nbformat_minor": 2
}
